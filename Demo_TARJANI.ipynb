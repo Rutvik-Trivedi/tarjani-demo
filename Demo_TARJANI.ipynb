{
  "nbformat": 4,
  "nbformat_minor": 0,
  "metadata": {
    "colab": {
      "name": "Demo TARJANI.ipynb",
      "private_outputs": true,
      "provenance": [],
      "toc_visible": true
    },
    "kernelspec": {
      "name": "python3",
      "display_name": "Python 3"
    }
  },
  "cells": [
    {
      "cell_type": "markdown",
      "metadata": {
        "id": "rnkWQpmsXKlf"
      },
      "source": [
        "# Installation:\n",
        "The following section walks you through the installation steps"
      ]
    },
    {
      "cell_type": "code",
      "metadata": {
        "id": "FHUo9YvRvy6e"
      },
      "source": [
        "!git clone https://github.com/Rutvik-Trivedi/tarjani.git"
      ],
      "execution_count": null,
      "outputs": []
    },
    {
      "cell_type": "code",
      "metadata": {
        "id": "yApL--aAWyBZ"
      },
      "source": [
        "%cd tarjani/scripts\n",
        "!python complete_install.py\n",
        "!pip install -r ../requirements.txt > logs.txt\n",
        "import nltk\n",
        "nltk.download('all')\n",
        "from IPython import display\n",
        "display.clear_output()\n",
        "!python train_after_import.py"
      ],
      "execution_count": null,
      "outputs": []
    },
    {
      "cell_type": "markdown",
      "metadata": {
        "id": "8TyVJAeQqmzV"
      },
      "source": [
        "# Running TARJANI:\n",
        "TARJANI is just installed and does not have any intents. So, it will not work as expected. To run TARJANI properly, please create an intent first. But for demo purpose, you may run the following interaction script to observe the behaviour of TARJANI"
      ]
    },
    {
      "cell_type": "code",
      "metadata": {
        "id": "aCCreDx-aAMp"
      },
      "source": [
        "!python interact.py"
      ],
      "execution_count": null,
      "outputs": []
    },
    {
      "cell_type": "markdown",
      "metadata": {
        "id": "euWYjvVrYXdz"
      },
      "source": [
        "# Creating a Simple Intent:\n",
        "This section walks you through creating a simple intent of asking the name to TARJANI"
      ]
    },
    {
      "cell_type": "code",
      "metadata": {
        "id": "ySoFoee9W_Tz"
      },
      "source": [
        "!python create_intent.py"
      ],
      "execution_count": null,
      "outputs": []
    },
    {
      "cell_type": "code",
      "metadata": {
        "id": "iLPsDLuQXWxU"
      },
      "source": [
        "!python interact.py"
      ],
      "execution_count": null,
      "outputs": []
    },
    {
      "cell_type": "markdown",
      "metadata": {
        "id": "BOiW3T3eYh42"
      },
      "source": [
        "# Deleting the intent:"
      ]
    },
    {
      "cell_type": "code",
      "metadata": {
        "id": "Do_iePI_ZeqK"
      },
      "source": [
        "!python delete_intent.py"
      ],
      "execution_count": null,
      "outputs": []
    },
    {
      "cell_type": "code",
      "metadata": {
        "id": "pK_ETvouZenm"
      },
      "source": [
        "!python interact.py"
      ],
      "execution_count": null,
      "outputs": []
    },
    {
      "cell_type": "code",
      "metadata": {
        "id": "YFkmPJwCZelA"
      },
      "source": [
        ""
      ],
      "execution_count": null,
      "outputs": []
    },
    {
      "cell_type": "markdown",
      "metadata": {
        "id": "ApGoT2pweydk"
      },
      "source": [
        "# Creating an Intent with an Entity and a Skill:\n",
        "This section walks you through creating an intent with a User defined Entity. Let us create an intent to create a file with the given name."
      ]
    },
    {
      "cell_type": "code",
      "metadata": {
        "id": "0g4IEQSlZFC-"
      },
      "source": [
        "!python create_intent.py"
      ],
      "execution_count": null,
      "outputs": []
    },
    {
      "cell_type": "code",
      "metadata": {
        "id": "Um7at-SNXK1l"
      },
      "source": [
        "!python interact.py"
      ],
      "execution_count": null,
      "outputs": []
    },
    {
      "cell_type": "code",
      "metadata": {
        "id": "YP3CFfRehB59"
      },
      "source": [
        ""
      ],
      "execution_count": null,
      "outputs": []
    },
    {
      "cell_type": "markdown",
      "metadata": {
        "id": "LtlHc62lmQPH"
      },
      "source": [
        "# Exporting this Model:\n",
        "Let us export the trained model so that we can dowload it to our system and use it anywhere  \n",
        "Format:  \n",
        "```bash\n",
        "./export_model.sh [any_name_you_prefer_goes_here_without_any_extension]\n",
        "```"
      ]
    },
    {
      "cell_type": "code",
      "metadata": {
        "id": "5xc458gchB3M"
      },
      "source": [
        "!./export_model.sh create_file"
      ],
      "execution_count": null,
      "outputs": []
    },
    {
      "cell_type": "code",
      "metadata": {
        "id": "2D7_tSkwhB0_"
      },
      "source": [
        ""
      ],
      "execution_count": null,
      "outputs": []
    },
    {
      "cell_type": "markdown",
      "metadata": {
        "id": "3Nwj68jYnR4T"
      },
      "source": [
        "# Resetting a Model:\n",
        "If you want to reset the model to the initial blank version, you may use this"
      ]
    },
    {
      "cell_type": "code",
      "metadata": {
        "id": "QWPWnqBghByb"
      },
      "source": [
        "!python reset_model.py"
      ],
      "execution_count": null,
      "outputs": []
    },
    {
      "cell_type": "code",
      "metadata": {
        "id": "h_BmTKq0hBv9"
      },
      "source": [
        ""
      ],
      "execution_count": null,
      "outputs": []
    },
    {
      "cell_type": "markdown",
      "metadata": {
        "id": "x-2C3LQYn7QA"
      },
      "source": [
        "# Importing a pre-built agent:\n",
        "Let us import the just exported pre-built agent which creates a file  \n",
        "A bunch of prebuilt agents are available at http://tarjani.is-great.net to download  \n",
        "Format to use is:\n",
        "```bash\n",
        "./import_model.sh [path_of_the_model_to_import_without_extension]\n",
        "```"
      ]
    },
    {
      "cell_type": "code",
      "metadata": {
        "id": "FWQWZlDnn6bv"
      },
      "source": [
        "!./import_model.sh create_file"
      ],
      "execution_count": null,
      "outputs": []
    },
    {
      "cell_type": "code",
      "metadata": {
        "id": "yFoDPtAmn6Y1"
      },
      "source": [
        ""
      ],
      "execution_count": null,
      "outputs": []
    },
    {
      "cell_type": "markdown",
      "metadata": {
        "id": "aNOfRVT-phU7"
      },
      "source": [
        "# Submitting a Feedback:\n",
        "Thank you for viewing the demo on TARJANI. It would be great if you could try TARJANI and provide your feedback on its performance. It will help TARJANI improve a lot. Thank you"
      ]
    },
    {
      "cell_type": "code",
      "metadata": {
        "id": "bB938Oz2n6WS"
      },
      "source": [
        "!python submit_feedback.py"
      ],
      "execution_count": null,
      "outputs": []
    },
    {
      "cell_type": "code",
      "metadata": {
        "id": "k6GyTyPAn6UB"
      },
      "source": [
        ""
      ],
      "execution_count": null,
      "outputs": []
    },
    {
      "cell_type": "markdown",
      "metadata": {
        "id": "vdH3ViwWuO1e"
      },
      "source": [
        "# Using an Experimental Feature:\n",
        "TARJANI has developed a couple of experimental vision features which are available for trial. Please note that these features are yet experimental and may be discontinued in case of poor performance. Please provide your feedback on their performance.  \n",
        "  \n",
        "This section shows how to use the experimental image captioning feature"
      ]
    },
    {
      "cell_type": "markdown",
      "metadata": {
        "id": "ZDpBzQ37uyIO"
      },
      "source": [
        "## Download the addon model:\n",
        "The addon model for this needs to be downloaded from [tarjani-model-zoo](https://github.com/Rutvik-Trivedi/tarjani-model-zoo)"
      ]
    },
    {
      "cell_type": "code",
      "metadata": {
        "id": "qazOhszqn6Rf"
      },
      "source": [
        "!pip install 'git+git://github.com/HR/github-clone#egg=ghclone'  #One time install"
      ],
      "execution_count": null,
      "outputs": []
    },
    {
      "cell_type": "code",
      "metadata": {
        "id": "kqtGKXqoqihU"
      },
      "source": [
        "%cd /content/tarjani/model/vision\n",
        "!ghclone https://github.com/Rutvik-Trivedi/tarjani-model-zoo/tree/main/image-captioning\n",
        "# Commands for each models are available in the README file on the repository"
      ],
      "execution_count": null,
      "outputs": []
    },
    {
      "cell_type": "markdown",
      "metadata": {
        "id": "U6FDl1qawF3P"
      },
      "source": [
        "## Using image captioning from the BASH\n",
        "I have provided a sample image link for the demo purpose: [Sample Image](https://www.alphashooters.com/wp-content/uploads/2019/01/sony-sel85f18-gsd-puppy-DSC00116-1300px.jpg)"
      ]
    },
    {
      "cell_type": "markdown",
      "metadata": {
        "id": "ki3pFSrnxFGG"
      },
      "source": [
        "Downloading the image"
      ]
    },
    {
      "cell_type": "code",
      "metadata": {
        "id": "WBsbNd2Qqiep"
      },
      "source": [
        "%cd /content/tarjani/scripts/experimental\n",
        "!wget https://www.alphashooters.com/wp-content/uploads/2019/01/sony-sel85f18-gsd-puppy-DSC00116-1300px.jpg\n",
        "!mv sony-sel85f18-gsd-puppy-DSC00116-1300px.jpg test.jpg"
      ],
      "execution_count": null,
      "outputs": []
    },
    {
      "cell_type": "markdown",
      "metadata": {
        "id": "I_nkNWsrxIMb"
      },
      "source": [
        "Applying image captioning"
      ]
    },
    {
      "cell_type": "code",
      "metadata": {
        "id": "0jfn_pUGqicF"
      },
      "source": [
        "!python vision.py --path test.jpg"
      ],
      "execution_count": null,
      "outputs": []
    },
    {
      "cell_type": "code",
      "metadata": {
        "id": "TmMf_FnFqiXJ"
      },
      "source": [
        ""
      ],
      "execution_count": null,
      "outputs": []
    },
    {
      "cell_type": "code",
      "metadata": {
        "id": "WpAjrOdRqiUd"
      },
      "source": [
        ""
      ],
      "execution_count": null,
      "outputs": []
    }
  ]
}